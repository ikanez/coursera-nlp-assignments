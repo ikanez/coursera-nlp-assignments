{
 "cells": [
  {
   "cell_type": "markdown",
   "metadata": {},
   "source": [
    "# Predict tags on StackOverflow with linear models"
   ]
  },
  {
   "cell_type": "markdown",
   "metadata": {},
   "source": [
    "In this assignment you will learn how to predict tags for posts from [StackOverflow](https://stackoverflow.com). To solve this task you will use multilabel classification approach.\n",
    "\n",
    "### Libraries\n",
    "\n",
    "In this task you will need the following libraries:\n",
    "- [Numpy](http://www.numpy.org) — a package for scientific computing.\n",
    "- [Pandas](https://pandas.pydata.org) — a library providing high-performance, easy-to-use data structures and data analysis tools for the Python\n",
    "- [scikit-learn](http://scikit-learn.org/stable/index.html) — a tool for data mining and data analysis.\n",
    "- [NLTK](http://www.nltk.org) — a platform to work with natural language."
   ]
  },
  {
   "cell_type": "markdown",
   "metadata": {},
   "source": [
    "### Data\n",
    "\n",
    "The following cell will download all data required for this assignment into the folder `week1/data`."
   ]
  },
  {
   "cell_type": "code",
   "execution_count": 1,
   "metadata": {},
   "outputs": [
    {
     "name": "stdout",
     "output_type": "stream",
     "text": [
      "File data\\train.tsv is already downloaded.\n",
      "File data\\validation.tsv is already downloaded.\n",
      "File data\\test.tsv is already downloaded.\n",
      "File data\\text_prepare_tests.tsv is already downloaded.\n"
     ]
    }
   ],
   "source": [
    "import sys\n",
    "sys.path.append(\"..\")\n",
    "from common.download_utils import download_week1_resources\n",
    "\n",
    "download_week1_resources()"
   ]
  },
  {
   "cell_type": "markdown",
   "metadata": {},
   "source": [
    "### Grading\n",
    "We will create a grader instance below and use it to collect your answers. Note that these outputs will be stored locally inside grader and will be uploaded to platform only after running submitting function in the last part of this assignment. If you want to make partial submission, you can run that cell any time you want."
   ]
  },
  {
   "cell_type": "code",
   "execution_count": 2,
   "metadata": {},
   "outputs": [],
   "source": [
    "from grader import Grader"
   ]
  },
  {
   "cell_type": "code",
   "execution_count": 3,
   "metadata": {},
   "outputs": [],
   "source": [
    "grader = Grader()"
   ]
  },
  {
   "cell_type": "markdown",
   "metadata": {},
   "source": [
    "### Text preprocessing"
   ]
  },
  {
   "cell_type": "markdown",
   "metadata": {},
   "source": [
    "For this and most of the following assignments you will need to use a list of stop words. It can be downloaded from *nltk*:"
   ]
  },
  {
   "cell_type": "code",
   "execution_count": 4,
   "metadata": {},
   "outputs": [
    {
     "name": "stdout",
     "output_type": "stream",
     "text": [
      "[nltk_data] Downloading package stopwords to\n",
      "[nltk_data]     C:\\Users\\hafid\\AppData\\Roaming\\nltk_data...\n",
      "[nltk_data]   Package stopwords is already up-to-date!\n"
     ]
    }
   ],
   "source": [
    "import nltk\n",
    "nltk.download('stopwords')\n",
    "from nltk.corpus import stopwords"
   ]
  },
  {
   "cell_type": "markdown",
   "metadata": {},
   "source": [
    "In this task you will deal with a dataset of post titles from StackOverflow. You are provided a split to 3 sets: *train*, *validation* and *test*. All corpora (except for *test*) contain titles of the posts and corresponding tags (100 tags are available). The *test* set is provided for Coursera's grading and doesn't contain answers. Upload the corpora using *pandas* and look at the data:"
   ]
  },
  {
   "cell_type": "code",
   "execution_count": 5,
   "metadata": {},
   "outputs": [],
   "source": [
    "from ast import literal_eval\n",
    "import pandas as pd\n",
    "import numpy as np"
   ]
  },
  {
   "cell_type": "code",
   "execution_count": 6,
   "metadata": {},
   "outputs": [],
   "source": [
    "def read_data(filename):\n",
    "    data = pd.read_csv(filename, sep='\\t')\n",
    "    data['tags'] = data['tags'].apply(literal_eval)\n",
    "    return data"
   ]
  },
  {
   "cell_type": "code",
   "execution_count": 7,
   "metadata": {},
   "outputs": [],
   "source": [
    "train = read_data('data/train.tsv')\n",
    "validation = read_data('data/validation.tsv')\n",
    "test = pd.read_csv('data/test.tsv', sep='\\t')"
   ]
  },
  {
   "cell_type": "code",
   "execution_count": 8,
   "metadata": {},
   "outputs": [
    {
     "data": {
      "text/html": [
       "<div>\n",
       "<style scoped>\n",
       "    .dataframe tbody tr th:only-of-type {\n",
       "        vertical-align: middle;\n",
       "    }\n",
       "\n",
       "    .dataframe tbody tr th {\n",
       "        vertical-align: top;\n",
       "    }\n",
       "\n",
       "    .dataframe thead th {\n",
       "        text-align: right;\n",
       "    }\n",
       "</style>\n",
       "<table border=\"1\" class=\"dataframe\">\n",
       "  <thead>\n",
       "    <tr style=\"text-align: right;\">\n",
       "      <th></th>\n",
       "      <th>title</th>\n",
       "      <th>tags</th>\n",
       "    </tr>\n",
       "  </thead>\n",
       "  <tbody>\n",
       "    <tr>\n",
       "      <th>0</th>\n",
       "      <td>How to draw a stacked dotplot in R?</td>\n",
       "      <td>[r]</td>\n",
       "    </tr>\n",
       "    <tr>\n",
       "      <th>1</th>\n",
       "      <td>mysql select all records where a datetime fiel...</td>\n",
       "      <td>[php, mysql]</td>\n",
       "    </tr>\n",
       "    <tr>\n",
       "      <th>2</th>\n",
       "      <td>How to terminate windows phone 8.1 app</td>\n",
       "      <td>[c#]</td>\n",
       "    </tr>\n",
       "    <tr>\n",
       "      <th>3</th>\n",
       "      <td>get current time in a specific country via jquery</td>\n",
       "      <td>[javascript, jquery]</td>\n",
       "    </tr>\n",
       "    <tr>\n",
       "      <th>4</th>\n",
       "      <td>Configuring Tomcat to Use SSL</td>\n",
       "      <td>[java]</td>\n",
       "    </tr>\n",
       "  </tbody>\n",
       "</table>\n",
       "</div>"
      ],
      "text/plain": [
       "                                               title                  tags\n",
       "0                How to draw a stacked dotplot in R?                   [r]\n",
       "1  mysql select all records where a datetime fiel...          [php, mysql]\n",
       "2             How to terminate windows phone 8.1 app                  [c#]\n",
       "3  get current time in a specific country via jquery  [javascript, jquery]\n",
       "4                      Configuring Tomcat to Use SSL                [java]"
      ]
     },
     "execution_count": 8,
     "metadata": {},
     "output_type": "execute_result"
    }
   ],
   "source": [
    "train.head()"
   ]
  },
  {
   "cell_type": "markdown",
   "metadata": {},
   "source": [
    "As you can see, *title* column contains titles of the posts and *tags* column contains the tags. It could be noticed that a number of tags for a post is not fixed and could be as many as necessary."
   ]
  },
  {
   "cell_type": "markdown",
   "metadata": {},
   "source": [
    "For a more comfortable usage, initialize *X_train*, *X_val*, *X_test*, *y_train*, *y_val*."
   ]
  },
  {
   "cell_type": "code",
   "execution_count": 9,
   "metadata": {},
   "outputs": [],
   "source": [
    "X_train, y_train = train['title'].values, train['tags'].values\n",
    "X_val, y_val = validation['title'].values, validation['tags'].values\n",
    "X_test = test['title'].values"
   ]
  },
  {
   "cell_type": "markdown",
   "metadata": {},
   "source": [
    "One of the most known difficulties when working with natural data is that it's unstructured. For example, if you use it \"as is\" and extract tokens just by splitting the titles by whitespaces, you will see that there are many \"weird\" tokens like *3.5?*, *\"Flip*, etc. To prevent the problems, it's usually useful to prepare the data somehow. In this task you'll write a function, which will be also used in the other assignments. \n",
    "\n",
    "**Task 1 (TextPrepare).** Implement the function *text_prepare* following the instructions. After that, run the function *test_test_prepare* to test it on tiny cases and submit it to Coursera."
   ]
  },
  {
   "cell_type": "code",
   "execution_count": 10,
   "metadata": {},
   "outputs": [],
   "source": [
    "import re"
   ]
  },
  {
   "cell_type": "code",
   "execution_count": 11,
   "metadata": {},
   "outputs": [],
   "source": [
    "REPLACE_BY_SPACE_RE = re.compile('[/(){}\\[\\]\\|@,;]')\n",
    "BAD_SYMBOLS_RE = re.compile('[^0-9a-z #+_]')\n",
    "STOPWORDS = set(stopwords.words('english'))\n",
    "\n",
    "def text_prepare(text):\n",
    "    \"\"\"\n",
    "        text: a string        \n",
    "        return: modified initial string\n",
    "    \"\"\"\n",
    "    text = text.lower()\n",
    "    text = REPLACE_BY_SPACE_RE.sub(' ',text) # replace REPLACE_BY_SPACE_RE symbols by space in text\n",
    "    text = BAD_SYMBOLS_RE.sub('',text) # delete symbols which are in BAD_SYMBOLS_RE from text\n",
    "    text = ' '.join([word for word in text.split() if word not in STOPWORDS]) # delete stopwords from text\n",
    "    return text"
   ]
  },
  {
   "cell_type": "code",
   "execution_count": 12,
   "metadata": {},
   "outputs": [],
   "source": [
    "def test_text_prepare():\n",
    "    examples = [\"SQL Server - any equivalent of Excel's CHOOSE function?\",\n",
    "                \"How to free c++ memory vector<int> * arr?\"]\n",
    "    answers = [\"sql server equivalent excels choose function\", \n",
    "               \"free c++ memory vectorint arr\"]\n",
    "    for ex, ans in zip(examples, answers):\n",
    "#         print(ex)\n",
    "#         print(text_prepare(ex))\n",
    "        if text_prepare(ex) != ans:\n",
    "            return \"Wrong answer for the case: '%s'\" % ex\n",
    "    return 'Basic tests are passed.'"
   ]
  },
  {
   "cell_type": "code",
   "execution_count": 13,
   "metadata": {},
   "outputs": [
    {
     "data": {
      "text/plain": [
       "'Basic tests are passed.'"
      ]
     },
     "execution_count": 13,
     "metadata": {},
     "output_type": "execute_result"
    }
   ],
   "source": [
    "test_text_prepare()"
   ]
  },
  {
   "cell_type": "markdown",
   "metadata": {},
   "source": [
    "Run your implementation for questions from file *text_prepare_tests.tsv* to earn the points."
   ]
  },
  {
   "cell_type": "code",
   "execution_count": 14,
   "metadata": {},
   "outputs": [
    {
     "name": "stdout",
     "output_type": "stream",
     "text": [
      "Current answer for task TextPrepare is:\n",
      " sqlite php readonly\n",
      "creating multiple textboxes dynamically\n",
      "self one prefer javascript\n",
      "save php date...\n"
     ]
    }
   ],
   "source": [
    "prepared_questions = []\n",
    "for line in open('data/text_prepare_tests.tsv', encoding='utf-8'):\n",
    "    line = text_prepare(line.strip())\n",
    "    prepared_questions.append(line)\n",
    "text_prepare_results = '\\n'.join(prepared_questions)\n",
    "\n",
    "grader.submit_tag('TextPrepare', text_prepare_results)"
   ]
  },
  {
   "cell_type": "markdown",
   "metadata": {},
   "source": [
    "Now we can preprocess the titles using function *text_prepare* and  making sure that the headers don't have bad symbols:"
   ]
  },
  {
   "cell_type": "code",
   "execution_count": 15,
   "metadata": {},
   "outputs": [],
   "source": [
    "X_train = [text_prepare(x) for x in X_train]\n",
    "X_val = [text_prepare(x) for x in X_val]\n",
    "X_test = [text_prepare(x) for x in X_test]"
   ]
  },
  {
   "cell_type": "code",
   "execution_count": 16,
   "metadata": {},
   "outputs": [
    {
     "data": {
      "text/plain": [
       "['draw stacked dotplot r',\n",
       " 'mysql select records datetime field less specified value',\n",
       " 'terminate windows phone 81 app']"
      ]
     },
     "execution_count": 16,
     "metadata": {},
     "output_type": "execute_result"
    }
   ],
   "source": [
    "X_train[:3]"
   ]
  },
  {
   "cell_type": "markdown",
   "metadata": {},
   "source": [
    "For each tag and for each word calculate how many times they occur in the train corpus. \n",
    "\n",
    "**Task 2 (WordsTagsCount).** Find 3 most popular tags and 3 most popular words in the train data and submit the results to earn the points."
   ]
  },
  {
   "cell_type": "code",
   "execution_count": 17,
   "metadata": {},
   "outputs": [],
   "source": [
    "# Dictionary of all tags from train corpus with their counts.\n",
    "tags_counts = {}\n",
    "# Dictionary of all words from train corpus with their counts.\n",
    "words_counts = {}\n",
    "\n",
    "######################################\n",
    "######### YOUR CODE HERE #############\n",
    "######################################\n",
    "for i in X_train:\n",
    "    for j in i.split(\" \"):\n",
    "        if j in words_counts:\n",
    "            words_counts[j] = words_counts[j] + 1\n",
    "        else:\n",
    "            words_counts[j] =1\n",
    "\n",
    "for i in y_train:\n",
    "    for j in i:\n",
    "        if j in tags_counts:\n",
    "            tags_counts[j] = tags_counts[j] + 1\n",
    "        else:\n",
    "            tags_counts[j] =1            "
   ]
  },
  {
   "cell_type": "markdown",
   "metadata": {},
   "source": [
    "We are assuming that *tags_counts* and *words_counts* are dictionaries like `{'some_word_or_tag': frequency}`. After applying the sorting procedure, results will be look like this: `[('most_popular_word_or_tag', frequency), ('less_popular_word_or_tag', frequency), ...]`. The grader gets the results in the following format (two comma-separated strings with line break):\n",
    "\n",
    "    tag1,tag2,tag3\n",
    "    word1,word2,word3\n",
    "\n",
    "Pay attention that in this assignment you should not submit frequencies or some additional information."
   ]
  },
  {
   "cell_type": "code",
   "execution_count": 18,
   "metadata": {},
   "outputs": [
    {
     "name": "stdout",
     "output_type": "stream",
     "text": [
      "Current answer for task WordsTagsCount is:\n",
      " javascript,c#,java\n",
      "using,php,java...\n"
     ]
    }
   ],
   "source": [
    "most_common_tags = sorted(tags_counts.items(), key=lambda x: x[1], reverse=True)[:3]\n",
    "most_common_words = sorted(words_counts.items(), key=lambda x: x[1], reverse=True)[:3]\n",
    "\n",
    "grader.submit_tag('WordsTagsCount', '%s\\n%s' % (','.join(tag for tag, _ in most_common_tags), \n",
    "                                                ','.join(word for word, _ in most_common_words)))"
   ]
  },
  {
   "cell_type": "markdown",
   "metadata": {},
   "source": [
    "### Transforming text to a vector\n",
    "\n",
    "Machine Learning algorithms work with numeric data and we cannot use the provided text data \"as is\". There are many ways to transform text data to numeric vectors. In this task you will try to use two of them.\n",
    "\n",
    "#### Bag of words\n",
    "\n",
    "One of the well-known approaches is a *bag-of-words* representation. To create this transformation, follow the steps:\n",
    "1. Find *N* most popular words in train corpus and numerate them. Now we have a dictionary of the most popular words.\n",
    "2. For each title in the corpora create a zero vector with the dimension equals to *N*.\n",
    "3. For each text in the corpora iterate over words which are in the dictionary and increase by 1 the corresponding coordinate.\n",
    "\n",
    "Let's try to do it for a toy example. Imagine that we have *N* = 4 and the list of the most popular words is \n",
    "\n",
    "    ['hi', 'you', 'me', 'are']\n",
    "\n",
    "Then we need to numerate them, for example, like this: \n",
    "\n",
    "    {'hi': 0, 'you': 1, 'me': 2, 'are': 3}\n",
    "\n",
    "And we have the text, which we want to transform to the vector:\n",
    "\n",
    "    'hi how are you'\n",
    "\n",
    "For this text we create a corresponding zero vector \n",
    "\n",
    "    [0, 0, 0, 0]\n",
    "    \n",
    "And iterate over all words, and if the word is in the dictionary, we increase the value of the corresponding position in the vector:\n",
    "\n",
    "    'hi':  [1, 0, 0, 0]\n",
    "    'how': [1, 0, 0, 0] # word 'how' is not in our dictionary\n",
    "    'are': [1, 0, 0, 1]\n",
    "    'you': [1, 1, 0, 1]\n",
    "\n",
    "The resulting vector will be \n",
    "\n",
    "    [1, 1, 0, 1]\n",
    "   \n",
    "Implement the described encoding in the function *my_bag_of_words* with the size of the dictionary equals to 5000. To find the most common words use train data. You can test your code using the function *test_my_bag_of_words*."
   ]
  },
  {
   "cell_type": "code",
   "execution_count": 19,
   "metadata": {},
   "outputs": [],
   "source": [
    "sorted_word = sorted(words_counts.items(), key=lambda x: x[1], reverse=True)"
   ]
  },
  {
   "cell_type": "code",
   "execution_count": 20,
   "metadata": {},
   "outputs": [],
   "source": [
    "DICT_SIZE = 5000\n",
    "WORDS_TO_INDEX = { j[0]:i for i,j in enumerate(sorted_word[:DICT_SIZE]) }\n",
    "INDEX_TO_WORDS =  { i:j[0] for i,j in enumerate(sorted_word[:DICT_SIZE]) }\n",
    "ALL_WORDS = WORDS_TO_INDEX.keys()\n",
    "\n",
    "def my_bag_of_words(text, words_to_index, dict_size):\n",
    "    \"\"\"\n",
    "        text: a string\n",
    "        dict_size: size of the dictionary\n",
    "        \n",
    "        return a vector which is a bag-of-words representation of 'text'\n",
    "    \"\"\"\n",
    "    result_vector = np.zeros(dict_size)\n",
    "    ######################################\n",
    "    ######### YOUR CODE HERE #############\n",
    "    ######################################\n",
    "    for i in text.split(\" \"):\n",
    "        if i in words_to_index.keys():\n",
    "            result_vector[words_to_index[i]] = 1\n",
    "    return result_vector"
   ]
  },
  {
   "cell_type": "code",
   "execution_count": 21,
   "metadata": {},
   "outputs": [],
   "source": [
    "def test_my_bag_of_words():\n",
    "    words_to_index = {'hi': 0, 'you': 1, 'me': 2, 'are': 3}\n",
    "    examples = ['hi how are you']\n",
    "    answers = [[1, 1, 0, 1]]\n",
    "    for ex, ans in zip(examples, answers):\n",
    "        if (my_bag_of_words(ex, words_to_index, 4) != ans).any():\n",
    "            return \"Wrong answer for the case: '%s'\" % ex\n",
    "    return 'Basic tests are passed.'"
   ]
  },
  {
   "cell_type": "code",
   "execution_count": 22,
   "metadata": {},
   "outputs": [
    {
     "name": "stdout",
     "output_type": "stream",
     "text": [
      "Basic tests are passed.\n"
     ]
    }
   ],
   "source": [
    "print(test_my_bag_of_words())"
   ]
  },
  {
   "cell_type": "markdown",
   "metadata": {},
   "source": [
    "Now apply the implemented function to all samples (this might take up to a minute):"
   ]
  },
  {
   "cell_type": "code",
   "execution_count": 23,
   "metadata": {},
   "outputs": [],
   "source": [
    "from scipy import sparse as sp_sparse"
   ]
  },
  {
   "cell_type": "code",
   "execution_count": 24,
   "metadata": {},
   "outputs": [
    {
     "name": "stdout",
     "output_type": "stream",
     "text": [
      "X_train shape  (100000, 5000)\n",
      "X_val shape  (30000, 5000)\n",
      "X_test shape  (20000, 5000)\n"
     ]
    }
   ],
   "source": [
    "X_train_mybag = sp_sparse.vstack([sp_sparse.csr_matrix(my_bag_of_words(text, WORDS_TO_INDEX, DICT_SIZE)) for text in X_train])\n",
    "X_val_mybag = sp_sparse.vstack([sp_sparse.csr_matrix(my_bag_of_words(text, WORDS_TO_INDEX, DICT_SIZE)) for text in X_val])\n",
    "X_test_mybag = sp_sparse.vstack([sp_sparse.csr_matrix(my_bag_of_words(text, WORDS_TO_INDEX, DICT_SIZE)) for text in X_test])\n",
    "print('X_train shape ', X_train_mybag.shape)\n",
    "print('X_val shape ', X_val_mybag.shape)\n",
    "print('X_test shape ', X_test_mybag.shape)"
   ]
  },
  {
   "cell_type": "markdown",
   "metadata": {},
   "source": [
    "As you might notice, we transform the data to sparse representation, to store the useful information efficiently. There are many [types](https://docs.scipy.org/doc/scipy/reference/sparse.html) of such representations, however sklearn algorithms can work only with [csr](https://docs.scipy.org/doc/scipy/reference/generated/scipy.sparse.csr_matrix.html#scipy.sparse.csr_matrix) matrix, so we will use this one."
   ]
  },
  {
   "cell_type": "markdown",
   "metadata": {},
   "source": [
    "**Task 3 (BagOfWords).** For the 11th row in *X_train_mybag* find how many non-zero elements it has. In this task the answer (variable *non_zero_elements_count*) should be a number, e.g. 20."
   ]
  },
  {
   "cell_type": "code",
   "execution_count": 25,
   "metadata": {},
   "outputs": [
    {
     "name": "stdout",
     "output_type": "stream",
     "text": [
      "Current answer for task BagOfWords is:\n",
      " 7...\n"
     ]
    }
   ],
   "source": [
    "row = X_train_mybag[10].toarray()[0]\n",
    "non_zero_elements_count = int(sum(row))\n",
    "\n",
    "grader.submit_tag('BagOfWords', str(non_zero_elements_count))"
   ]
  },
  {
   "cell_type": "markdown",
   "metadata": {},
   "source": [
    "#### TF-IDF\n",
    "\n",
    "The second approach extends the bag-of-words framework by taking into account total frequencies of words in the corpora. It helps to penalize too frequent words and provide better features space. \n",
    "\n",
    "Implement function *tfidf_features* using class [TfidfVectorizer](http://scikit-learn.org/stable/modules/generated/sklearn.feature_extraction.text.TfidfVectorizer.html) from *scikit-learn*. Use *train* corpus to train a vectorizer. Don't forget to take a look into the arguments that you can pass to it. We suggest that you filter out too rare words (occur less than in 5 titles) and too frequent words (occur more than in 90% of the titles). Also, use bigrams along with unigrams in your vocabulary. "
   ]
  },
  {
   "cell_type": "code",
   "execution_count": 26,
   "metadata": {},
   "outputs": [],
   "source": [
    "from sklearn.feature_extraction.text import TfidfVectorizer"
   ]
  },
  {
   "cell_type": "code",
   "execution_count": 27,
   "metadata": {},
   "outputs": [],
   "source": [
    "def tfidf_features(X_train, X_val, X_test):\n",
    "    \"\"\"\n",
    "        X_train, X_val, X_test — samples        \n",
    "        return TF-IDF vectorized representation of each sample and vocabulary\n",
    "    \"\"\"\n",
    "    # Create TF-IDF vectorizer with a proper parameters choice\n",
    "    # Fit the vectorizer on the train set\n",
    "    # Transform the train, test, and val sets and return the result\n",
    "    \n",
    "    \n",
    "    tfidf_vectorizer = TfidfVectorizer(max_df=0.9, min_df=5, stop_words='english',\n",
    "                                 use_idf=True, ngram_range=(1,2), token_pattern='(\\S+)')\n",
    "    \n",
    "    ######################################\n",
    "    ######### YOUR CODE HERE #############\n",
    "    ######################################\n",
    "    \n",
    "    X_train = tfidf_vectorizer.fit_transform(X_train)\n",
    "    X_val = tfidf_vectorizer.transform(X_val)\n",
    "    X_test = tfidf_vectorizer.transform(X_test)\n",
    "    \n",
    "    return X_train, X_val, X_test, tfidf_vectorizer.vocabulary_"
   ]
  },
  {
   "cell_type": "markdown",
   "metadata": {},
   "source": [
    "Once you have done text preprocessing, always have a look at the results. Be very careful at this step, because the performance of future models will drastically depend on it. \n",
    "\n",
    "In this case, check whether you have c++ or c# in your vocabulary, as they are obviously important tokens in our tags prediction task:"
   ]
  },
  {
   "cell_type": "code",
   "execution_count": 28,
   "metadata": {},
   "outputs": [],
   "source": [
    "X_train_tfidf, X_val_tfidf, X_test_tfidf, tfidf_vocab = tfidf_features(X_train, X_val, X_test)\n",
    "tfidf_reversed_vocab = {i:word for word,i in tfidf_vocab.items()}"
   ]
  },
  {
   "cell_type": "code",
   "execution_count": 29,
   "metadata": {},
   "outputs": [
    {
     "name": "stdout",
     "output_type": "stream",
     "text": [
      "True\n",
      "True\n",
      "True\n"
     ]
    }
   ],
   "source": [
    "print('draw' in tfidf_reversed_vocab.values())    \n",
    "print('c++' in tfidf_reversed_vocab.values())   \n",
    "print('c#' in tfidf_reversed_vocab.values())"
   ]
  },
  {
   "cell_type": "markdown",
   "metadata": {},
   "source": [
    "If you can't find it, we need to understand how did it happen that we lost them? It happened during the built-in tokenization of TfidfVectorizer. Luckily, we can influence on this process. Get back to the function above and use '(\\S+)' regexp as a *token_pattern* in the constructor of the vectorizer.  "
   ]
  },
  {
   "cell_type": "markdown",
   "metadata": {},
   "source": [
    "Now, use this transormation for the data and check again."
   ]
  },
  {
   "cell_type": "code",
   "execution_count": 30,
   "metadata": {},
   "outputs": [
    {
     "name": "stdout",
     "output_type": "stream",
     "text": [
      "True\n",
      "True\n",
      "True\n"
     ]
    }
   ],
   "source": [
    "print('draw' in tfidf_reversed_vocab.values())    \n",
    "print('c++' in tfidf_reversed_vocab.values())   \n",
    "print('c#' in tfidf_reversed_vocab.values())"
   ]
  },
  {
   "cell_type": "markdown",
   "metadata": {},
   "source": [
    "### MultiLabel classifier\n",
    "\n",
    "As we have noticed before, in this task each example can have multiple tags. To deal with such kind of prediction, we need to transform labels in a binary form and the prediction will be a mask of 0s and 1s. For this purpose it is convenient to use [MultiLabelBinarizer](http://scikit-learn.org/stable/modules/generated/sklearn.preprocessing.MultiLabelBinarizer.html) from *sklearn*."
   ]
  },
  {
   "cell_type": "code",
   "execution_count": 31,
   "metadata": {},
   "outputs": [],
   "source": [
    "from sklearn.preprocessing import MultiLabelBinarizer"
   ]
  },
  {
   "cell_type": "code",
   "execution_count": 32,
   "metadata": {},
   "outputs": [],
   "source": [
    "mlb = MultiLabelBinarizer(classes=sorted(tags_counts.keys()))\n",
    "y_train = mlb.fit_transform(y_train)\n",
    "y_val = mlb.fit_transform(y_val)"
   ]
  },
  {
   "cell_type": "markdown",
   "metadata": {},
   "source": [
    "Implement the function *train_classifier* for training a classifier. In this task we suggest to use One-vs-Rest approach, which is implemented in [OneVsRestClassifier](http://scikit-learn.org/stable/modules/generated/sklearn.multiclass.OneVsRestClassifier.html) class. In this approach *k* classifiers (= number of tags) are trained. As a basic classifier, use [LogisticRegression](http://scikit-learn.org/stable/modules/generated/sklearn.linear_model.LogisticRegression.html). It is one of the simplest methods, but often it performs good enough in text classification tasks. It might take some time, because a number of classifiers to train is large."
   ]
  },
  {
   "cell_type": "code",
   "execution_count": 33,
   "metadata": {},
   "outputs": [],
   "source": [
    "from sklearn.multiclass import OneVsRestClassifier\n",
    "from sklearn.linear_model import LogisticRegression, RidgeClassifier"
   ]
  },
  {
   "cell_type": "code",
   "execution_count": 34,
   "metadata": {},
   "outputs": [],
   "source": [
    "def train_classifier(X_train, y_train):\n",
    "    \"\"\"\n",
    "      X_train, y_train — training data\n",
    "      \n",
    "      return: trained classifier\n",
    "    \"\"\"\n",
    "    \n",
    "    # Create and fit LogisticRegression wraped into OneVsRestClassifier.\n",
    "\n",
    "    ######################################\n",
    "    ######### YOUR CODE HERE #############\n",
    "    ######################################  \n",
    "    classif = OneVsRestClassifier(LogisticRegression())\n",
    "    return classif.fit(X_train, y_train)\n",
    "    \n",
    "    \n",
    "    "
   ]
  },
  {
   "cell_type": "markdown",
   "metadata": {},
   "source": [
    "Train the classifiers for different data transformations: *bag-of-words* and *tf-idf*."
   ]
  },
  {
   "cell_type": "code",
   "execution_count": 35,
   "metadata": {},
   "outputs": [],
   "source": [
    "classifier_mybag = train_classifier(X_train_mybag, y_train)\n",
    "classifier_tfidf = train_classifier(X_train_tfidf, y_train)"
   ]
  },
  {
   "cell_type": "code",
   "execution_count": null,
   "metadata": {},
   "outputs": [],
   "source": []
  },
  {
   "cell_type": "markdown",
   "metadata": {},
   "source": [
    "Now you can create predictions for the data. You will need two types of predictions: labels and scores."
   ]
  },
  {
   "cell_type": "code",
   "execution_count": 36,
   "metadata": {},
   "outputs": [],
   "source": [
    "y_val_predicted_labels_mybag = classifier_mybag.predict(X_val_mybag)\n",
    "y_val_predicted_scores_mybag = classifier_mybag.decision_function(X_val_mybag)\n",
    "\n",
    "y_val_predicted_labels_tfidf = classifier_tfidf.predict(X_val_tfidf)\n",
    "y_val_predicted_scores_tfidf = classifier_tfidf.decision_function(X_val_tfidf)"
   ]
  },
  {
   "cell_type": "markdown",
   "metadata": {},
   "source": [
    "Now take a look at how classifier, which uses TF-IDF, works for a few examples:"
   ]
  },
  {
   "cell_type": "code",
   "execution_count": 37,
   "metadata": {},
   "outputs": [
    {
     "name": "stdout",
     "output_type": "stream",
     "text": [
      "Title:\todbc_exec always fail\n",
      "True labels:\tphp,sql\n",
      "Predicted labels:\t\n",
      "\n",
      "\n",
      "Title:\taccess base classes variable within child class\n",
      "True labels:\tjavascript\n",
      "Predicted labels:\t\n",
      "\n",
      "\n",
      "Title:\tcontenttype application json required rails\n",
      "True labels:\truby,ruby-on-rails\n",
      "Predicted labels:\truby-on-rails\n",
      "\n",
      "\n"
     ]
    }
   ],
   "source": [
    "y_val_pred_inversed = mlb.inverse_transform(y_val_predicted_labels_tfidf)\n",
    "y_val_inversed = mlb.inverse_transform(y_val)\n",
    "for i in range(3):\n",
    "    print('Title:\\t{}\\nTrue labels:\\t{}\\nPredicted labels:\\t{}\\n\\n'.format(\n",
    "        X_val[i],\n",
    "        ','.join(y_val_inversed[i]),\n",
    "        ','.join(y_val_pred_inversed[i])\n",
    "    ))"
   ]
  },
  {
   "cell_type": "markdown",
   "metadata": {},
   "source": [
    "Now, we would need to compare the results of different predictions, e.g. to see whether TF-IDF transformation helps or to try different regularization techniques in logistic regression. For all these experiments, we need to setup evaluation procedure. "
   ]
  },
  {
   "cell_type": "markdown",
   "metadata": {},
   "source": [
    "### Evaluation\n",
    "\n",
    "To evaluate the results we will use several classification metrics:\n",
    " - [Accuracy](http://scikit-learn.org/stable/modules/generated/sklearn.metrics.accuracy_score.html)\n",
    " - [F1-score](http://scikit-learn.org/stable/modules/generated/sklearn.metrics.f1_score.html)\n",
    " - [Area under ROC-curve](http://scikit-learn.org/stable/modules/generated/sklearn.metrics.roc_auc_score.html)\n",
    " - [Area under precision-recall curve](http://scikit-learn.org/stable/modules/generated/sklearn.metrics.average_precision_score.html#sklearn.metrics.average_precision_score) \n",
    " \n",
    "Make sure you are familiar with all of them. How would you expect the things work for the multi-label scenario? Read about micro/macro/weighted averaging following the sklearn links provided above."
   ]
  },
  {
   "cell_type": "code",
   "execution_count": 38,
   "metadata": {},
   "outputs": [],
   "source": [
    "from sklearn.metrics import accuracy_score\n",
    "from sklearn.metrics import f1_score\n",
    "from sklearn.metrics import roc_auc_score \n",
    "from sklearn.metrics import average_precision_score\n",
    "from sklearn.metrics import recall_score"
   ]
  },
  {
   "cell_type": "markdown",
   "metadata": {},
   "source": [
    "Implement the function *print_evaluation_scores* which calculates and prints to stdout:\n",
    " - *accuracy*\n",
    " - *F1-score macro/micro/weighted*\n",
    " - *Precision macro/micro/weighted*"
   ]
  },
  {
   "cell_type": "code",
   "execution_count": 39,
   "metadata": {},
   "outputs": [],
   "source": [
    "def print_evaluation_scores(y_val, predicted):\n",
    "    \n",
    "    ######################################\n",
    "    ######### YOUR CODE HERE #############\n",
    "    ######################################\n",
    "    accuracy = accuracy_score(y_val, predicted)\n",
    "    f1 = f1_score(y_val, predicted, average = 'weighted')\n",
    "    aps = average_precision_score(y_val, predicted, average = 'weighted')\n",
    "    print(\"Accuracy:\",accuracy)\n",
    "    print(\"F1:\",f1)\n",
    "    print(\"Precision:\",aps)"
   ]
  },
  {
   "cell_type": "code",
   "execution_count": 40,
   "metadata": {},
   "outputs": [
    {
     "name": "stdout",
     "output_type": "stream",
     "text": [
      "Bag-of-words\n",
      "Accuracy: 0.3617\n",
      "F1: 0.651701359097535\n",
      "Precision: 0.5140585406065622\n",
      "Tfidf\n",
      "Accuracy: 0.33673333333333333\n",
      "F1: 0.6164646346863141\n",
      "Precision: 0.48719799291140764\n"
     ]
    }
   ],
   "source": [
    "print('Bag-of-words')\n",
    "print_evaluation_scores(y_val, y_val_predicted_labels_mybag)\n",
    "print('Tfidf')\n",
    "print_evaluation_scores(y_val, y_val_predicted_labels_tfidf)"
   ]
  },
  {
   "cell_type": "markdown",
   "metadata": {},
   "source": [
    "You might also want to plot some generalization of the [ROC curve](http://scikit-learn.org/stable/modules/model_evaluation.html#receiver-operating-characteristic-roc) for the case of multi-label classification. Provided function *roc_auc* can make it for you. The input parameters of this function are:\n",
    " - true labels\n",
    " - decision functions scores\n",
    " - number of classes"
   ]
  },
  {
   "cell_type": "code",
   "execution_count": 41,
   "metadata": {},
   "outputs": [],
   "source": [
    "from metrics import roc_auc\n",
    "%matplotlib inline"
   ]
  },
  {
   "cell_type": "code",
   "execution_count": 42,
   "metadata": {},
   "outputs": [
    {
     "data": {
      "image/png": "[encoded data removed]",
      "text/plain": [
       "<matplotlib.figure.Figure at 0x2535688d828>"
      ]
     },
     "metadata": {},
     "output_type": "display_data"
    }
   ],
   "source": [
    "n_classes = len(tags_counts)\n",
    "roc_auc(y_val, y_val_predicted_scores_mybag, n_classes)"
   ]
  },
  {
   "cell_type": "code",
   "execution_count": 43,
   "metadata": {},
   "outputs": [
    {
     "data": {
      "image/png": "[encoded data removed]",
      "text/plain": [
       "<matplotlib.figure.Figure at 0x25350fb5470>"
      ]
     },
     "metadata": {},
     "output_type": "display_data"
    }
   ],
   "source": [
    "n_classes = len(tags_counts)\n",
    "roc_auc(y_val, y_val_predicted_scores_tfidf, n_classes)"
   ]
  },
  {
   "cell_type": "markdown",
   "metadata": {},
   "source": [
    "**Task 4 (MultilabelClassification).** Once we have the evaluation set up, we suggest that you experiment a bit with training your classifiers. We will use *F1-score weighted* as an evaluation metric. Our recommendation:\n",
    "- compare the quality of the bag-of-words and TF-IDF approaches and chose one of them.\n",
    "- for the chosen one, try *L1* and *L2*-regularization techniques in Logistic Regression with different coefficients (e.g. C equal to 0.1, 1, 10, 100).\n",
    "\n",
    "You also could try other improvements of the preprocessing / model, if you want. "
   ]
  },
  {
   "cell_type": "code",
   "execution_count": 44,
   "metadata": {},
   "outputs": [],
   "source": [
    "######################################\n",
    "######### YOUR CODE HERE #############\n",
    "######################################\n",
    "\n",
    "# choose mybag\n",
    "def new_train_classifier(X_train, y_train, c_value):\n",
    "    \"\"\"\n",
    "      X_train, y_train — training data\n",
    "      \n",
    "      return: trained classifier\n",
    "    \"\"\"\n",
    "    \n",
    "    # Create and fit LogisticRegression wraped into OneVsRestClassifier.\n",
    "\n",
    "    ######################################\n",
    "    ######### YOUR CODE HERE #############\n",
    "    ######################################  \n",
    "    classif = OneVsRestClassifier(LogisticRegression(penalty='l2', C=c_value))\n",
    "    return classif.fit(X_train, y_train)"
   ]
  },
  {
   "cell_type": "code",
   "execution_count": 46,
   "metadata": {},
   "outputs": [
    {
     "name": "stderr",
     "output_type": "stream",
     "text": [
      "C:\\Users\\hafid\\Dropbox\\3.SelfStudy\\ml_lab\\Anaconda3\\envs\\fastai\\lib\\site-packages\\sklearn\\metrics\\classification.py:1135: UndefinedMetricWarning: F-score is ill-defined and being set to 0.0 in labels with no predicted samples.\n",
      "  'precision', 'predicted', average, warn_for)\n"
     ]
    },
    {
     "name": "stdout",
     "output_type": "stream",
     "text": [
      "Accuracy: 0.3138666666666667\n",
      "F1: 0.5931877355699616\n",
      "Precision: 0.4670774879751912\n",
      " \n",
      "Accuracy: 0.3617\n",
      "F1: 0.651701359097535\n",
      "Precision: 0.5140585406065622\n",
      " \n",
      "Accuracy: 0.3532\n",
      "F1: 0.6539332377009238\n",
      "Precision: 0.5039676867996683\n",
      " \n",
      "Accuracy: 0.3204\n",
      "F1: 0.634499704691274\n",
      "Precision: 0.47588760186406104\n"
     ]
    }
   ],
   "source": [
    "classifier = new_train_classifier(X_train_mybag, y_train, 0.1)\n",
    "y_val_predicted_labels_mybag = classifier.predict(X_val_mybag)\n",
    "print_evaluation_scores(y_val, y_val_predicted_labels_mybag)\n",
    "\n",
    "print(' ')\n",
    "\n",
    "classifier = new_train_classifier(X_train_mybag, y_train, 1)\n",
    "y_val_predicted_labels_mybag = classifier.predict(X_val_mybag)\n",
    "print_evaluation_scores(y_val, y_val_predicted_labels_mybag)\n",
    "\n",
    "print(' ')\n",
    "\n",
    "classifier = new_train_classifier(X_train_mybag, y_train, 10)\n",
    "y_val_predicted_labels_mybag = classifier.predict(X_val_mybag)\n",
    "print_evaluation_scores(y_val, y_val_predicted_labels_mybag)\n",
    "\n",
    "print(' ')\n",
    "\n",
    "classifier = new_train_classifier(X_train_mybag, y_train, 100)\n",
    "y_val_predicted_labels_mybag = classifier.predict(X_val_mybag)\n",
    "print_evaluation_scores(y_val, y_val_predicted_labels_mybag)\n"
   ]
  },
  {
   "cell_type": "code",
   "execution_count": 47,
   "metadata": {},
   "outputs": [
    {
     "name": "stderr",
     "output_type": "stream",
     "text": [
      "C:\\Users\\hafid\\Dropbox\\3.SelfStudy\\ml_lab\\Anaconda3\\envs\\fastai\\lib\\site-packages\\sklearn\\metrics\\classification.py:1135: UndefinedMetricWarning: F-score is ill-defined and being set to 0.0 in labels with no predicted samples.\n",
      "  'precision', 'predicted', average, warn_for)\n"
     ]
    },
    {
     "name": "stdout",
     "output_type": "stream",
     "text": [
      "Accuracy: 0.18386666666666668\n",
      "F1: 0.3980536896079003\n",
      "Precision: 0.31877990045902693\n",
      " \n",
      "Accuracy: 0.33673333333333333\n",
      "F1: 0.6164646346863141\n",
      "Precision: 0.48719799291140764\n",
      " \n",
      "Accuracy: 0.36483333333333334\n",
      "F1: 0.654398024668735\n",
      "Precision: 0.5110629371826785\n",
      " \n",
      "Accuracy: 0.3199\n",
      "F1: 0.6293159029593463\n",
      "Precision: 0.46641768606172107\n"
     ]
    }
   ],
   "source": [
    "\n",
    "classifier = new_train_classifier(X_train_tfidf, y_train, 0.1)\n",
    "y_val_predicted_labels_tfidf = classifier.predict(X_val_tfidf)\n",
    "print_evaluation_scores(y_val, y_val_predicted_labels_tfidf)\n",
    "\n",
    "print(' ')\n",
    "\n",
    "classifier = new_train_classifier(X_train_tfidf, y_train, 1)\n",
    "y_val_predicted_labels_tfidf = classifier.predict(X_val_tfidf)\n",
    "print_evaluation_scores(y_val, y_val_predicted_labels_tfidf)\n",
    "\n",
    "print(' ')\n",
    "\n",
    "classifier = new_train_classifier(X_train_tfidf, y_train, 10)\n",
    "y_val_predicted_labels_tfidf = classifier.predict(X_val_tfidf)\n",
    "print_evaluation_scores(y_val, y_val_predicted_labels_tfidf)\n",
    "\n",
    "print(' ')\n",
    "\n",
    "classifier = new_train_classifier(X_train_tfidf, y_train, 100)\n",
    "y_val_predicted_labels_tfidf = classifier.predict(X_val_tfidf)\n",
    "print_evaluation_scores(y_val, y_val_predicted_labels_tfidf)"
   ]
  },
  {
   "cell_type": "code",
   "execution_count": 48,
   "metadata": {},
   "outputs": [],
   "source": [
    "#final model\n",
    "classifier = new_train_classifier(X_train_tfidf, y_train, 10)\n",
    "# y_val_predicted_labels_tfidf = classifier.predict(X_val_tfidf)\n"
   ]
  },
  {
   "cell_type": "markdown",
   "metadata": {},
   "source": [
    "When you are happy with the quality, create predictions for *test* set, which you will submit to Coursera."
   ]
  },
  {
   "cell_type": "code",
   "execution_count": 49,
   "metadata": {},
   "outputs": [
    {
     "name": "stdout",
     "output_type": "stream",
     "text": [
      "Current answer for task MultilabelClassification is:\n",
      " 0\tmysql,php\n",
      "1\thtml,javascript,jquery\n",
      "2\t\n",
      "3\tjavascript,jquery\n",
      "4\tandroid,java\n",
      "5\tparsing,php,xml\n",
      "6\tjson,...\n"
     ]
    }
   ],
   "source": [
    "test_predictions = classifier.predict(X_test_tfidf)\n",
    "test_pred_inversed = mlb.inverse_transform(test_predictions)\n",
    "\n",
    "test_predictions_for_submission = '\\n'.join('%i\\t%s' % (i, ','.join(row)) for i, row in enumerate(test_pred_inversed))\n",
    "grader.submit_tag('MultilabelClassification', test_predictions_for_submission)"
   ]
  },
  {
   "cell_type": "markdown",
   "metadata": {},
   "source": [
    "### Analysis of the most important features"
   ]
  },
  {
   "cell_type": "markdown",
   "metadata": {},
   "source": [
    "Finally, it is usually a good idea to look at the features (words or n-grams) that are used with the largest weigths in your logistic regression model."
   ]
  },
  {
   "cell_type": "markdown",
   "metadata": {},
   "source": [
    "Implement the function *print_words_for_tag* to find them. Get back to sklearn documentation on [OneVsRestClassifier](http://scikit-learn.org/stable/modules/generated/sklearn.multiclass.OneVsRestClassifier.html) and [LogisticRegression](http://scikit-learn.org/stable/modules/generated/sklearn.linear_model.LogisticRegression.html) if needed."
   ]
  },
  {
   "cell_type": "code",
   "execution_count": null,
   "metadata": {
    "collapsed": true
   },
   "outputs": [],
   "source": [
    "def print_words_for_tag(classifier, tag, tags_classes, index_to_words, all_words):\n",
    "    \"\"\"\n",
    "        classifier: trained classifier\n",
    "        tag: particular tag\n",
    "        tags_classes: a list of classes names from MultiLabelBinarizer\n",
    "        index_to_words: index_to_words transformation\n",
    "        all_words: all words in the dictionary\n",
    "        \n",
    "        return nothing, just print top 5 positive and top 5 negative words for current tag\n",
    "    \"\"\"\n",
    "    print('Tag:\\t{}'.format(tag))\n",
    "    \n",
    "    # Extract an estimator from the classifier for the given tag.\n",
    "    for i,j in enumerate(mlb.classes):\n",
    "        if j is tag:\n",
    "            idx = i\n",
    "    \n",
    "    # Extract feature coefficients from the estimator. \n",
    "    coeff = classifier_tfidf.coef_[idx]\n",
    "\n",
    "    ######################################\n",
    "    ######### YOUR CODE HERE #############\n",
    "    ######################################\n",
    "    \n",
    "    top_positive_words = # top-5 words sorted by the coefficiens.\n",
    "    top_negative_words = # bottom-5 words  sorted by the coefficients.\n",
    "    print('Top positive words:\\t{}'.format(', '.join(top_positive_words)))\n",
    "    print('Top negative words:\\t{}\\n'.format(', '.join(top_negative_words)))"
   ]
  },
  {
   "cell_type": "code",
   "execution_count": null,
   "metadata": {
    "collapsed": true
   },
   "outputs": [],
   "source": [
    "print_words_for_tag(classifier_tfidf, 'c', mlb.classes, tfidf_reversed_vocab, ALL_WORDS)\n",
    "print_words_for_tag(classifier_tfidf, 'c++', mlb.classes, tfidf_reversed_vocab, ALL_WORDS)\n",
    "print_words_for_tag(classifier_tfidf, 'linux', mlb.classes, tfidf_reversed_vocab, ALL_WORDS)"
   ]
  },
  {
   "cell_type": "code",
   "execution_count": 90,
   "metadata": {},
   "outputs": [
    {
     "data": {
      "text/plain": [
       "array([-0.80874935, -0.04728912,  0.34772102, ..., -0.13408021,\n",
       "       -0.06016492, -0.05282899])"
      ]
     },
     "execution_count": 90,
     "metadata": {},
     "output_type": "execute_result"
    }
   ],
   "source": [
    "classifier_tfidf.coef_[9]"
   ]
  },
  {
   "cell_type": "code",
   "execution_count": 107,
   "metadata": {},
   "outputs": [
    {
     "data": {
      "text/plain": [
       "{4541: 'draw',\n",
       " 14063: 'stacked',\n",
       " 11914: 'r',\n",
       " 9696: 'mysql',\n",
       " 13175: 'select',\n",
       " 12170: 'records',\n",
       " 3851: 'datetime',\n",
       " 5512: 'field',\n",
       " 13923: 'specified',\n",
       " 16165: 'value',\n",
       " 9728: 'mysql select',\n",
       " 13208: 'select records',\n",
       " 3855: 'datetime field',\n",
       " 14801: 'terminate',\n",
       " 16845: 'windows',\n",
       " 10883: 'phone',\n",
       " 243: '81',\n",
       " 811: 'app',\n",
       " 16867: 'windows phone',\n",
       " 10886: 'phone 81',\n",
       " 244: '81 app',\n",
       " 3487: 'current',\n",
       " 14982: 'time',\n",
       " 13879: 'specific',\n",
       " 3296: 'country',\n",
       " 8029: 'jquery',\n",
       " 3504: 'current time',\n",
       " 15011: 'time specific',\n",
       " 2930: 'configuring',\n",
       " 15072: 'tomcat',\n",
       " 15706: 'use',\n",
       " 14049: 'ssl',\n",
       " 1291: 'awesome',\n",
       " 9821: 'nested',\n",
       " 13481: 'set',\n",
       " 11165: 'plugin',\n",
       " 413: 'add',\n",
       " 9884: 'new',\n",
       " 2378: 'children',\n",
       " 15146: 'tree',\n",
       " 16401: 'various',\n",
       " 8435: 'levels',\n",
       " 459: 'add new',\n",
       " 3319: 'create',\n",
       " 9021: 'map',\n",
       " 8151: 'json',\n",
       " 12564: 'response',\n",
       " 12855: 'ruby',\n",
       " 11942: 'rails',\n",
       " 147: '3',\n",
       " 8178: 'json response',\n",
       " 12870: 'ruby rails',\n",
       " 11944: 'rails 3',\n",
       " 12843: 'rspec',\n",
       " 14808: 'test',\n",
       " 9230: 'method',\n",
       " 1994: 'called',\n",
       " 12846: 'rspec test',\n",
       " 14818: 'test method',\n",
       " 9238: 'method called',\n",
       " 13980: 'springboot',\n",
       " 8462: 'lifecycle',\n",
       " 5200: 'exception',\n",
       " 7039: 'import',\n",
       " 3598: 'data',\n",
       " 5184: 'excel',\n",
       " 3717: 'database',\n",
       " 15840: 'using',\n",
       " 10897: 'php',\n",
       " 7042: 'import data',\n",
       " 3631: 'data excel',\n",
       " 9705: 'mysql database',\n",
       " 3746: 'database using',\n",
       " 16012: 'using php',\n",
       " 10262: 'obtaining',\n",
       " 10144: 'object',\n",
       " 10629: 'parameterized',\n",
       " 15248: 'type',\n",
       " 3027: 'constructing',\n",
       " 2415: 'class',\n",
       " 7538: 'ipad',\n",
       " 13248: 'selecting',\n",
       " 14832: 'text',\n",
       " 7287: 'inside',\n",
       " 7204: 'input',\n",
       " 14740: 'tap',\n",
       " 13254: 'selecting text',\n",
       " 14857: 'text inside',\n",
       " 14856: 'text input',\n",
       " 8123: 'jquerys',\n",
       " 6053: 'function',\n",
       " 6102: 'function object',\n",
       " 4705: 'eclipse',\n",
       " 1882: 'c++',\n",
       " 9328: 'mingw',\n",
       " 11518: 'program',\n",
       " 14802: 'terminated',\n",
       " 4707: 'eclipse c++',\n",
       " 7833: 'javascript',\n",
       " 11625: 'prototype',\n",
       " 7917: 'javascript prototype',\n",
       " 11626: 'prototype method',\n",
       " 7465: 'intersection',\n",
       " 8587: 'list',\n",
       " 13543: 'sets',\n",
       " 8841: 'longer',\n",
       " 270: 'able',\n",
       " 6625: 'hide',\n",
       " 8271: 'keyboard',\n",
       " 7532: 'ios7',\n",
       " 5501: 'fetch',\n",
       " 8251: 'key',\n",
       " 14569: 'swift',\n",
       " 8186: 'json swift',\n",
       " 2156: 'change',\n",
       " 11116: 'pivot',\n",
       " 6550: 'header',\n",
       " 14777: 'template',\n",
       " 237: '8',\n",
       " 10885: 'phone 8',\n",
       " 2985: 'connectionstring',\n",
       " 4869: 'encryption',\n",
       " 8426: 'let',\n",
       " 15333: 'ui',\n",
       " 12258: 'refresh',\n",
       " 8831: 'long',\n",
       " 12914: 'running',\n",
       " 10387: 'operation',\n",
       " 8836: 'long running',\n",
       " 1469: 'better',\n",
       " 16602: 'way',\n",
       " 5236: 'execute',\n",
       " 5543: 'file',\n",
       " 11697: 'python',\n",
       " 2994: 'console',\n",
       " 10463: 'output',\n",
       " 12884: 'run',\n",
       " 1471: 'better way',\n",
       " 12865: 'ruby file',\n",
       " 5681: 'file using',\n",
       " 16025: 'using python',\n",
       " 2999: 'console output',\n",
       " 5653: 'file run',\n",
       " 12906: 'run python',\n",
       " 8952: 'make',\n",
       " 86: '2',\n",
       " 14972: 'thumbnails',\n",
       " 2650: 'codeigniter',\n",
       " 7637: 'java',\n",
       " 2236: 'character',\n",
       " 16546: 'vs',\n",
       " 2226: 'char',\n",
       " 9175: 'memory',\n",
       " 15703: 'usage',\n",
       " 9189: 'memory usage',\n",
       " 1579: 'bootstrap',\n",
       " 9383: 'modal',\n",
       " 2578: 'close',\n",
       " 4899: 'enter',\n",
       " 11377: 'press',\n",
       " 1587: 'bootstrap modal',\n",
       " 4900: 'enter key',\n",
       " 8264: 'key press',\n",
       " 8555: 'linq',\n",
       " 11859: 'query',\n",
       " 6449: 'group',\n",
       " 12636: 'retrieving',\n",
       " 10846: 'percentage',\n",
       " 8570: 'linq query',\n",
       " 11865: 'query group',\n",
       " 8316: 'label',\n",
       " 7564: 'issue',\n",
       " 10362: 'openerp',\n",
       " 10230: 'objects',\n",
       " 16466: 'view',\n",
       " 13016: 'scaling',\n",
       " 1299: 'axis',\n",
       " 1212: 'attributeerror',\n",
       " 9982: 'nonetype',\n",
       " 1199: 'attribute',\n",
       " 13940: 'split',\n",
       " 1215: 'attributeerror nonetype',\n",
       " 9983: 'nonetype object',\n",
       " 10149: 'object attribute',\n",
       " 842: 'append',\n",
       " 9072: 'mat',\n",
       " 12435: 'replace',\n",
       " 10300: 'onclick',\n",
       " 8097: 'jquery replace',\n",
       " 12194: 'redirect',\n",
       " 11541: 'programme',\n",
       " 12203: 'redirect output',\n",
       " 340: 'accesscontrolalloworigin',\n",
       " 11372: 'present',\n",
       " 12501: 'requested',\n",
       " 12546: 'resource',\n",
       " 4962: 'error',\n",
       " 341: 'accesscontrolalloworigin header',\n",
       " 12502: 'requested resource',\n",
       " 3378: 'creating',\n",
       " 1782: 'c#',\n",
       " 7036: 'implicitly',\n",
       " 3148: 'convert',\n",
       " 14248: 'string',\n",
       " 3390: 'creating json',\n",
       " 16848: 'windows 8',\n",
       " 239: '8 c#',\n",
       " 1865: 'c# using',\n",
       " 7037: 'implicitly convert',\n",
       " 3201: 'convert type',\n",
       " 15290: 'type string',\n",
       " 4385: 'django',\n",
       " 9418: 'modelform',\n",
       " 4401: 'django modelform',\n",
       " 4354: 'div',\n",
       " 13740: 'slide',\n",
       " 6628: 'hide div',\n",
       " 4373: 'div slide',\n",
       " 7893: 'javascript jquery',\n",
       " 1285: 'avoid',\n",
       " 1695: 'busy',\n",
       " 8334: 'laravel',\n",
       " 178: '4',\n",
       " 12701: 'returns',\n",
       " 566: 'ajax',\n",
       " 11290: 'post',\n",
       " 8335: 'laravel 4',\n",
       " 3600: 'data ajax',\n",
       " 585: 'ajax post',\n",
       " 6495: 'handle',\n",
       " 8033: 'jquery ajax',\n",
       " 17166: 'year',\n",
       " 6114: 'function r',\n",
       " 12640: 'retrofit',\n",
       " 13701: 'singleton',\n",
       " 6460: 'gson',\n",
       " 15926: 'using gson',\n",
       " 3304: 'cpp',\n",
       " 9305: 'mfc',\n",
       " 3254: 'copying',\n",
       " 16672: 'web',\n",
       " 12227: 'reference',\n",
       " 11554: 'project',\n",
       " 16689: 'web reference',\n",
       " 9903: 'new project',\n",
       " 11882: 'query select',\n",
       " 7250: 'insert',\n",
       " 7108: 'index',\n",
       " 7271: 'insert string',\n",
       " 14343: 'string specific',\n",
       " 761: 'apache',\n",
       " 11182: 'poi',\n",
       " 10524: 'page',\n",
       " 5946: 'format',\n",
       " 16983: 'worksheet',\n",
       " 769: 'apache poi',\n",
       " 2191: 'change page',\n",
       " 5199: 'excel worksheet',\n",
       " 15046: 'tkinter',\n",
       " 11550: 'progress',\n",
       " 1348: 'bar',\n",
       " 11809: 'python tkinter',\n",
       " 11551: 'progress bar',\n",
       " 14191: 'store',\n",
       " 6917: 'image',\n",
       " 10784: 'path',\n",
       " 14197: 'store image',\n",
       " 6966: 'image path',\n",
       " 15865: 'using c#',\n",
       " 7971: 'jdbc',\n",
       " 2964: 'connection',\n",
       " 1163: 'associated',\n",
       " 8998: 'managed',\n",
       " 7972: 'jdbc connection',\n",
       " 2970: 'connection error',\n",
       " 9546: 'multiple',\n",
       " 14700: 'tables',\n",
       " 9393: 'model',\n",
       " 17176: 'yii2',\n",
       " 15746: 'use multiple',\n",
       " 9623: 'multiple tables',\n",
       " 3116: 'controller',\n",
       " 9763: 'names',\n",
       " 1101: 'aspnet',\n",
       " 9688: 'mvc4',\n",
       " 1119: 'aspnet mvc4',\n",
       " 2082: 'casting',\n",
       " 7393: 'integer',\n",
       " 938: 'array',\n",
       " 7394: 'integer array',\n",
       " 1009: 'array object',\n",
       " 10147: 'object array',\n",
       " 993: 'array java',\n",
       " 6260: 'getting',\n",
       " 15652: 'uploading',\n",
       " 6269: 'getting error',\n",
       " 5093: 'error uploading',\n",
       " 15653: 'uploading file',\n",
       " 5640: 'file php',\n",
       " 2511: 'clear',\n",
       " 9294: 'methods',\n",
       " 9297: 'methods java',\n",
       " 11446: 'printing',\n",
       " 5824: 'floats',\n",
       " 10071: 'number',\n",
       " 17193: 'zeros',\n",
       " 13904: 'specific number',\n",
       " 13641: 'simple',\n",
       " 1756: 'c',\n",
       " 9874: 'network',\n",
       " 8445: 'library',\n",
       " 13644: 'simple c',\n",
       " 1758: 'c c++',\n",
       " 16104: 'usr',\n",
       " 1482: 'bin',\n",
       " 7368: 'instead',\n",
       " 8749: 'local',\n",
       " 12931: 'running ruby',\n",
       " 16105: 'usr bin',\n",
       " 16106: 'usr local',\n",
       " 1515: 'bitmap',\n",
       " 1484: 'binary',\n",
       " 10390: 'operations',\n",
       " 3952: 'default',\n",
       " 8924: 'mail',\n",
       " 16948: 'working',\n",
       " 4910: 'entity',\n",
       " 6002: 'framework',\n",
       " 4346: 'distinct',\n",
       " 4914: 'entity framework',\n",
       " 6016: 'framework model',\n",
       " 5392: 'extjs',\n",
       " 2340: 'checked',\n",
       " 9970: 'nodes',\n",
       " 14461: 'submit',\n",
       " 8660: 'lists',\n",
       " 8571: 'linq select',\n",
       " 9834: 'nested lists',\n",
       " 4766: 'element',\n",
       " 10706: 'pass',\n",
       " 16271: 'values',\n",
       " 6707: 'html',\n",
       " 6630: 'hide element',\n",
       " 10733: 'pass values',\n",
       " 16300: 'values javascript',\n",
       " 7887: 'javascript html',\n",
       " 6726: 'html element',\n",
       " 4788: 'element using',\n",
       " 15947: 'using javascript',\n",
       " 7152: 'information',\n",
       " 4150: 'dictionary',\n",
       " 13745: 'slidetoggle',\n",
       " 4293: 'display',\n",
       " 3371: 'created',\n",
       " 10355: 'opencv',\n",
       " 675: 'android',\n",
       " 4305: 'display image',\n",
       " 7365: 'instantiating',\n",
       " 9764: 'namespace',\n",
       " 16990: 'wpf',\n",
       " 13060: 'screen',\n",
       " 12536: 'resolution',\n",
       " 13062: 'screen resolution',\n",
       " 3063: 'content',\n",
       " 14117: 'static',\n",
       " 14666: 'table',\n",
       " 2113: 'cell',\n",
       " 4331: 'displayed',\n",
       " 7512: 'ios',\n",
       " 246: '9',\n",
       " 14699: 'table view',\n",
       " 16471: 'view cell',\n",
       " 7518: 'ios 9',\n",
       " 1456: 'best',\n",
       " 1249: 'autocomplete',\n",
       " 14514: 'suggest',\n",
       " 610: 'algorithm',\n",
       " 3794: 'datastructure',\n",
       " 1888: 'c++ c',\n",
       " 1311: 'backbone',\n",
       " 9422: 'modelsave',\n",
       " 13313: 'sending',\n",
       " 12215: 'redirects',\n",
       " 6309: 'given',\n",
       " 13457: 'session',\n",
       " 2388: 'chrome',\n",
       " 13469: 'session php',\n",
       " 9660: 'mvc',\n",
       " 12043: 'razor',\n",
       " 9345: 'missing',\n",
       " 2683: 'collections',\n",
       " 5888: 'form',\n",
       " 9664: 'mvc 4',\n",
       " 182: '4 razor',\n",
       " 5921: 'form post',\n",
       " 3807: 'date',\n",
       " 3891: 'ddmmyyyy',\n",
       " 14432: 'style',\n",
       " 4654: 'dynamically',\n",
       " 8539: 'linkbutton',\n",
       " 555: 'affecting',\n",
       " 2199: 'change style',\n",
       " 4665: 'dynamically created',\n",
       " 2277: 'check',\n",
       " 11186: 'point',\n",
       " 8482: 'line',\n",
       " 2551: 'client',\n",
       " 12474: 'request',\n",
       " 5467: 'fails',\n",
       " 15022: 'timeout',\n",
       " 13676: 'simultaneously',\n",
       " 366: 'acquire',\n",
       " 15587: 'update',\n",
       " 6404: 'graph',\n",
       " 9094: 'matplotlib',\n",
       " 3706: 'data update',\n",
       " 6407: 'graph using',\n",
       " 11763: 'python matplotlib',\n",
       " 14203: 'store value',\n",
       " 16253: 'value string',\n",
       " 14252: 'string array',\n",
       " 3795: 'datatable',\n",
       " 7197: 'inner',\n",
       " 8002: 'join',\n",
       " 4618: 'dynamic',\n",
       " 2739: 'columns',\n",
       " 1806: 'c# datatable',\n",
       " 7201: 'inner join',\n",
       " 4624: 'dynamic columns',\n",
       " 3264: 'correct',\n",
       " 411: 'adapter',\n",
       " 10802: 'pattern',\n",
       " 10220: 'objective',\n",
       " 10221: 'objective c',\n",
       " 12972: 'save',\n",
       " 5839: 'folder',\n",
       " 12981: 'save image',\n",
       " 6942: 'image folder',\n",
       " 5848: 'folder using',\n",
       " 15843: 'using ajax',\n",
       " 577: 'ajax jquery',\n",
       " 15730: 'use function',\n",
       " 6895: 'ignore',\n",
       " 12820: 'rows',\n",
       " 13840: 'sorting',\n",
       " 13912: 'specific rows',\n",
       " 4476: 'dom',\n",
       " 711: 'angular',\n",
       " 4238: 'directive',\n",
       " 4477: 'dom element',\n",
       " 715: 'angular directive',\n",
       " 12178: 'rectangles',\n",
       " 10632: 'parameters',\n",
       " 15665: 'url',\n",
       " 17189: 'zend',\n",
       " 10641: 'parameters url',\n",
       " 7156: 'inheritance',\n",
       " 298: 'access',\n",
       " 11468: 'problem',\n",
       " 7198: 'inner class',\n",
       " 16269: 'valueerror',\n",
       " 9073: 'match',\n",
       " 10745: 'passing',\n",
       " 13805: 'sockets',\n",
       " 10749: 'passing array',\n",
       " 996: 'array json',\n",
       " 8169: 'json objects',\n",
       " 2360: 'child',\n",
       " 4071: 'deserializing',\n",
       " 17105: 'xml',\n",
       " 2367: 'child nodes',\n",
       " 4073: 'deserializing xml',\n",
       " 17124: 'xml object',\n",
       " 16434: 'version',\n",
       " 864: 'application',\n",
       " 5233: 'executable',\n",
       " 3055: 'contains',\n",
       " 15576: 'unsupported',\n",
       " 907: 'architecture',\n",
       " 6827: 'i386',\n",
       " 831: 'app version',\n",
       " 908: 'architecture i386',\n",
       " 2751: 'com',\n",
       " 1035: 'array using',\n",
       " 15878: 'using com',\n",
       " 15697: 'urlopen',\n",
       " 4959: 'errno',\n",
       " 53: '10061',\n",
       " 5006: 'error errno',\n",
       " 15503: 'unique',\n",
       " 2754: 'combination',\n",
       " 1495: 'bind',\n",
       " 4564: 'drop',\n",
       " 3890: 'ddl',\n",
       " 4567: 'drop list',\n",
       " 8641: 'list using',\n",
       " 15953: 'using jquery',\n",
       " 159: '31',\n",
       " 4866: 'encrypted',\n",
       " 6189: 'gem',\n",
       " 2501: 'clause',\n",
       " 5532: 'fields',\n",
       " 11946: 'rails 31',\n",
       " 6488: 'hack',\n",
       " 6356: 'google',\n",
       " 9040: 'maps',\n",
       " 775: 'api',\n",
       " 6198: 'generate',\n",
       " 2410: 'city',\n",
       " 14102: 'state',\n",
       " 10988: 'php mysql',\n",
       " 6369: 'google maps',\n",
       " 9041: 'maps api',\n",
       " 2411: 'city state',\n",
       " 15528: 'unknown',\n",
       " 14743: 'target',\n",
       " 11587: 'property',\n",
       " 860: 'applet',\n",
       " 8904: 'mac',\n",
       " 10447: 'os',\n",
       " 12898: 'run java',\n",
       " 7649: 'java applet',\n",
       " 8906: 'mac os',\n",
       " 8372: 'latitude',\n",
       " 8845: 'longitude',\n",
       " 8373: 'latitude longitude',\n",
       " 9487: 'mouseout',\n",
       " 8653: 'listener',\n",
       " 16912: 'wordpress',\n",
       " 6368: 'google map',\n",
       " 12786: 'row',\n",
       " 11905: 'quickly',\n",
       " 7541: 'iphone',\n",
       " 2776: 'command',\n",
       " 14800: 'terminal',\n",
       " 12642: 'return',\n",
       " 9098: 'matrix',\n",
       " 9806: 'need',\n",
       " 15138: 'transpose',\n",
       " 1184: 'attach',\n",
       " 3757: 'dataframe',\n",
       " 10645: 'parent',\n",
       " 11533: 'programmatically',\n",
       " 3586: 'd3',\n",
       " 8127: 'js',\n",
       " 14974: 'tick',\n",
       " 13864: 'spacing',\n",
       " 6255: 'gets',\n",
       " 9222: 'messed',\n",
       " 9464: 'month',\n",
       " 1602: 'boundary',\n",
       " 6528: 'hash',\n",
       " 10177: 'object javascript',\n",
       " 13532: 'set timeout',\n",
       " 15787: 'user',\n",
       " 5781: 'fit',\n",
       " 9813: 'needs',\n",
       " 2168: 'change default',\n",
       " 4420: 'django user',\n",
       " 15812: 'user model',\n",
       " 13378: 'serializing',\n",
       " 1267: 'automatically',\n",
       " 7330: 'install',\n",
       " 5772: 'firefox',\n",
       " 9788: 'navbar',\n",
       " 1238: 'auto',\n",
       " 8380: 'layout',\n",
       " 3024: 'constraints',\n",
       " 7428: 'interactive',\n",
       " 7432: 'interface',\n",
       " 1677: 'builder',\n",
       " 1243: 'auto layout',\n",
       " 7434: 'interface builder',\n",
       " 8295: 'kill',\n",
       " 11484: 'process',\n",
       " 13586: 'shell',\n",
       " 2372: 'child process',\n",
       " 11492: 'process running',\n",
       " 13587: 'shell command',\n",
       " 13550: 'setting',\n",
       " 15035: 'timezone',\n",
       " 12145: 'recent',\n",
       " 5415: 'facebook',\n",
       " 6581: 'help',\n",
       " 4140: 'dialog',\n",
       " 5133: 'event',\n",
       " 8693: 'load',\n",
       " 1657: 'browsers',\n",
       " 8065: 'jquery event',\n",
       " 5150: 'event listener',\n",
       " 6957: 'image load',\n",
       " 7419: 'intellij',\n",
       " 3011: 'constant',\n",
       " 5344: 'expression',\n",
       " 12510: 'required',\n",
       " 2067: 'case',\n",
       " 690: 'android java',\n",
       " 3015: 'constant expression',\n",
       " 4573: 'dropdown',\n",
       " 1374: 'based',\n",
       " 4920: 'entries',\n",
       " 4579: 'dropdown select',\n",
       " 13177: 'select based',\n",
       " 1383: 'based database',\n",
       " 16896: 'wont',\n",
       " 16926: 'work',\n",
       " 8908: 'machine',\n",
       " 16901: 'wont work',\n",
       " 8756: 'local machine',\n",
       " 11692: 'pyqt',\n",
       " 4298: 'display data',\n",
       " 3663: 'data mysql',\n",
       " 3743: 'database table',\n",
       " 14697: 'table using',\n",
       " 483: 'addeventlistener',\n",
       " 13282: 'send',\n",
       " 14930: 'thread',\n",
       " 13286: 'send data',\n",
       " 3692: 'data specific',\n",
       " 5833: 'focus',\n",
       " 8676: 'listviewitem',\n",
       " 4451: 'documentgetelementbyid',\n",
       " 7202: 'innerhtml',\n",
       " 6875: 'ie8',\n",
       " 16961: 'working ie8',\n",
       " 4749: 'efficient',\n",
       " 7374: 'int',\n",
       " 7495: 'inverse',\n",
       " 3194: 'convert string',\n",
       " 14304: 'string int',\n",
       " 4726: 'edit',\n",
       " 15246: 'txt',\n",
       " 13901: 'specific line',\n",
       " 8508: 'line txt',\n",
       " 15247: 'txt file',\n",
       " 5559: 'file c',\n",
       " 2914: 'conditionally',\n",
       " 5740: 'filter',\n",
       " 7554: 'iqueryable',\n",
       " 6220: 'generic',\n",
       " 12467: 'repository',\n",
       " 15297: 'type using',\n",
       " 15915: 'using generic',\n",
       " 6231: 'generic repository',\n",
       " 12468: 'repository pattern',\n",
       " 11955: 'rails app',\n",
       " 7473: 'invalid',\n",
       " 7136: 'indirect',\n",
       " 15197: 'trying',\n",
       " 15202: 'trying convert',\n",
       " 1914: 'c++ java',\n",
       " 12163: 'record',\n",
       " 7262: 'insert multiple',\n",
       " 12167: 'record table',\n",
       " 14671: 'table codeigniter',\n",
       " 13991: 'sql',\n",
       " 3192: 'convert sql',\n",
       " 14008: 'sql query',\n",
       " 11869: 'query linq',\n",
       " 10772: 'password',\n",
       " 11572: 'prompt',\n",
       " 12273: 'regex',\n",
       " 9812: 'needed',\n",
       " 4641: 'dynamic string',\n",
       " 14356: 'string value',\n",
       " 11140: 'play',\n",
       " 16464: 'videos',\n",
       " 16738: 'website',\n",
       " 1466: 'best way',\n",
       " 12102: 'reading',\n",
       " 14159: 'stdin',\n",
       " 1544: 'blocking',\n",
       " 12110: 'reading line',\n",
       " 8501: 'line line',\n",
       " 16453: 'video',\n",
       " 10291: 'old',\n",
       " 12580: 'rest',\n",
       " 12581: 'rest api',\n",
       " 2772: 'comma',\n",
       " 13343: 'separated',\n",
       " 2676: 'collection',\n",
       " 13953: 'spring',\n",
       " 2774: 'comma separated',\n",
       " 13347: 'separated string',\n",
       " 14307: 'string java',\n",
       " 7665: 'java collection',\n",
       " 13968: 'spring form',\n",
       " 2348: 'checking',\n",
       " 9161: 'member',\n",
       " 14391: 'struct',\n",
       " 1777: 'c struct',\n",
       " 14392: 'struct array',\n",
       " 6432: 'gridview',\n",
       " 5330: 'export',\n",
       " 6437: 'gridview data',\n",
       " 5333: 'export excel',\n",
       " 15038: 'tinymce',\n",
       " 11151: 'player',\n",
       " 9152: 'media',\n",
       " 13937: 'splash',\n",
       " 294: 'accepts',\n",
       " 2477: 'class use',\n",
       " 15769: 'use spring',\n",
       " 3461: 'csv',\n",
       " 14378: 'stringsplit',\n",
       " 1528: 'blank',\n",
       " 7041: 'import csv',\n",
       " 3463: 'csv file',\n",
       " 8437: 'li',\n",
       " 9940: 'ngmodel',\n",
       " 14085: 'start',\n",
       " 1526: 'blackberry',\n",
       " 11543: 'programming',\n",
       " 13142: 'searching',\n",
       " 13117: 'sdk',\n",
       " 11901: 'quick',\n",
       " 7546: 'iphone sdk',\n",
       " 4244: 'directory',\n",
       " 2706: 'column',\n",
       " 10283: 'odd',\n",
       " 10109: 'numbers',\n",
       " 14948: 'threads',\n",
       " 10284: 'odd numbers',\n",
       " 10122: 'numbers using',\n",
       " 15841: 'using 2',\n",
       " 653: 'alternatives',\n",
       " 11569: 'projects',\n",
       " 13639: 'similar',\n",
       " 8014: 'joomla',\n",
       " 4593: 'drupal',\n",
       " 1151: 'assign',\n",
       " 16331: 'variable',\n",
       " 11582: 'properties',\n",
       " 1813: 'c# dynamic',\n",
       " 4650: 'dynamic variable',\n",
       " 4640: 'dynamic object',\n",
       " 5530: 'field value',\n",
       " 16232: 'value object',\n",
       " 2368: 'child object',\n",
       " 345: 'accessing',\n",
       " 6326: 'global',\n",
       " 10308: 'onclicklistener',\n",
       " 347: 'accessing global',\n",
       " 6330: 'global variable',\n",
       " 16348: 'variable inside',\n",
       " 917: 'argument',\n",
       " 15396: 'uml',\n",
       " 921: 'argument list',\n",
       " 11357: 'preg_replace',\n",
       " 3482: 'curly',\n",
       " 1624: 'brackets',\n",
       " 165: '323',\n",
       " 1690: 'bundler',\n",
       " 2832: 'compatible',\n",
       " 16443: 'versions',\n",
       " 11948: 'rails 323',\n",
       " 5229: 'exe',\n",
       " 1872: 'c# windows',\n",
       " 16860: 'windows form',\n",
       " 8224: 'junit',\n",
       " 12459: 'report',\n",
       " 14747: 'task',\n",
       " 5434: 'facebooks',\n",
       " 13764: 'sms',\n",
       " 1637: 'broadcast',\n",
       " 12141: 'receiver',\n",
       " 14733: 'takes',\n",
       " 6646: 'highest',\n",
       " 11453: 'priority',\n",
       " 12134: 'reboot',\n",
       " 8418: 'length',\n",
       " 25: '0',\n",
       " 1744: 'bypass',\n",
       " 2568: 'clientside',\n",
       " 16146: 'validation',\n",
       " 2569: 'clientside validation',\n",
       " 12949: 'rvm',\n",
       " 7339: 'installation',\n",
       " 15324: 'ubuntu',\n",
       " 7340: 'installation error',\n",
       " 5085: 'error ubuntu',\n",
       " 15165: 'trigger',\n",
       " 2057: 'carousel',\n",
       " 15168: 'trigger event',\n",
       " 1582: 'bootstrap carousel',\n",
       " 11636: 'proxy',\n",
       " 2921: 'configuration',\n",
       " 15397: 'unable',\n",
       " 12216: 'redirecttoaction',\n",
       " 7609: 'iterators',\n",
       " 7083: 'incompatible',\n",
       " 4088: 'destruction',\n",
       " 4041: 'dependent',\n",
       " 3029: 'constructor',\n",
       " 1338: 'bad',\n",
       " 7226: 'input line',\n",
       " 14604: 'symfony2',\n",
       " 5976: 'forms',\n",
       " 10415: 'options',\n",
       " 15725: 'use dynamic',\n",
       " 13205: 'select options',\n",
       " 10011: 'notfoundhttpexception',\n",
       " 14460: 'submission',\n",
       " 6509: 'handling',\n",
       " 16156: 'validation multiple',\n",
       " 9573: 'multiple forms',\n",
       " 15174: 'triggers',\n",
       " 10418: 'oracle',\n",
       " 7975: 'jdbc oracle',\n",
       " 9458: 'mongoose',\n",
       " 1988: 'callback',\n",
       " 328: 'access specific',\n",
       " 13918: 'specific value',\n",
       " 15622: 'updating',\n",
       " 9419: 'models',\n",
       " 203: '5',\n",
       " 2032: 'canvas',\n",
       " 7567: 'issues',\n",
       " 6708: 'html 5',\n",
       " 2829: 'comparison',\n",
       " 16380: 'variables',\n",
       " 11208: 'pointing',\n",
       " 10664: 'parse',\n",
       " 10670: 'parse json',\n",
       " 8155: 'json data',\n",
       " 3669: 'data php',\n",
       " 11275: 'possible',\n",
       " 8222: 'jump',\n",
       " 10539: 'page form',\n",
       " 5928: 'form submit',\n",
       " 12961: 'safely',\n",
       " 4086: 'destroy',\n",
       " 16815: 'window',\n",
       " 17061: 'wxpython',\n",
       " 7079: 'includes',\n",
       " 14649: 'systems',\n",
       " 10966: 'php includes',\n",
       " 9001: 'managepy',\n",
       " 12939: 'runserver',\n",
       " 9002: 'managepy runserver',\n",
       " 12995: 'saving',\n",
       " 6000: 'frames',\n",
       " 13003: 'saving multiple',\n",
       " 9562: 'multiple data',\n",
       " 3638: 'data frames',\n",
       " 12654: 'return function',\n",
       " 2833: 'compilation',\n",
       " 2834: 'compilation error',\n",
       " 5083: 'error type',\n",
       " 15280: 'type namespace',\n",
       " 10674: 'parsecom',\n",
       " 8441: 'libgdx',\n",
       " 7025: 'implementation',\n",
       " 6882: 'iframe',\n",
       " 11262: 'position',\n",
       " 485: 'adding',\n",
       " 7837: 'javascript adding',\n",
       " 507: 'adding text',\n",
       " 14855: 'text image',\n",
       " 6991: 'image using',\n",
       " 15869: 'using canvas',\n",
       " 12988: 'save value',\n",
       " 16197: 'value drop',\n",
       " 1969: 'calculate',\n",
       " 3271: 'correlation',\n",
       " 12355: 'remove',\n",
       " 10312: 'ones',\n",
       " 10590: 'pandas',\n",
       " 11778: 'python pandas',\n",
       " 10403: 'optimizations',\n",
       " 1642: 'browser',\n",
       " 10850: 'perform',\n",
       " 12419: 'rendered',\n",
       " 4030: 'denied',\n",
       " 13427: 'service',\n",
       " 3988: 'delegate',\n",
       " 8927: 'mail client',\n",
       " 2563: 'client using',\n",
       " 3281: 'count',\n",
       " 3772: 'datagridview',\n",
       " 3289: 'count values',\n",
       " 16281: 'values column',\n",
       " 2716: 'column datagridview',\n",
       " 3776: 'datagridview column',\n",
       " 13044: 'scipy',\n",
       " 1671: 'build',\n",
       " 10452: 'osx',\n",
       " 8907: 'mac osx',\n",
       " 7535: 'ip',\n",
       " 512: 'address',\n",
       " 9064: 'mask',\n",
       " 14891: 'textbox',\n",
       " 7536: 'ip address',\n",
       " 16409: 'vbnet',\n",
       " 2790: 'commands',\n",
       " 7716: 'java library',\n",
       " 13224: 'selected',\n",
       " 2643: 'codebehind',\n",
       " 13241: 'selected value',\n",
       " 16255: 'value text',\n",
       " 14854: 'text html',\n",
       " 6750: 'html select',\n",
       " 12600: 'restrict',\n",
       " 8028: 'jqgrid',\n",
       " 14886: 'textarea',\n",
       " 6570: 'height',\n",
       " 6423: 'grid',\n",
       " 14572: 'swift 3',\n",
       " 4736: 'editor',\n",
       " 13367: 'serialization',\n",
       " 17132: 'xml serialization',\n",
       " 5360: 'extend',\n",
       " 7661: 'java class',\n",
       " 5220: 'exceptions',\n",
       " 6478: 'guidelines',\n",
       " 15466: 'understand',\n",
       " 14828: 'testng',\n",
       " 14519: 'suite',\n",
       " 2928: 'configure',\n",
       " 16727: 'webpage',\n",
       " 5189: 'excel data',\n",
       " 10611: 'parameter',\n",
       " 10509: 'owin',\n",
       " 6677: 'host',\n",
       " 10725: 'pass parameter',\n",
       " 12992: 'saved',\n",
       " 11997: 'rake',\n",
       " 5105: 'errors',\n",
       " 8733: 'loading',\n",
       " 8299: 'kind',\n",
       " 9657: 'mutex',\n",
       " 1981: 'calculation',\n",
       " 4907: 'entities',\n",
       " 8559: 'linq entities',\n",
       " 4908: 'entities query',\n",
       " 4170: 'difference',\n",
       " 2610: 'cocos2dx',\n",
       " 8894: 'lua',\n",
       " 1500: 'binding',\n",
       " 12522: 'reset',\n",
       " 723: 'angularjs',\n",
       " 16431: 'verify',\n",
       " 1609: 'box',\n",
       " 2542: 'clicked',\n",
       " 2279: 'check box',\n",
       " 14400: 'structure',\n",
       " 11190: 'pointer',\n",
       " 4425: 'dll',\n",
       " 11192: 'pointer c',\n",
       " 1761: 'c dll',\n",
       " 4426: 'dll c#',\n",
       " 10810: 'pausing',\n",
       " 0: '#',\n",
       " 9322: 'milliseconds',\n",
       " 9278: 'method set',\n",
       " 10644: 'params',\n",
       " 12507: 'requests',\n",
       " 11791: 'python requests',\n",
       " 6652: 'highlighting',\n",
       " 16529: 'visual',\n",
       " 14417: 'studio',\n",
       " 16533: 'visual studio',\n",
       " 4816: 'email',\n",
       " 2870: 'component',\n",
       " 16444: 'versus',\n",
       " 11075: 'phpmailer',\n",
       " 1965: 'cakephp',\n",
       " 7068: 'include',\n",
       " 5703: 'files',\n",
       " 3269: 'correctly',\n",
       " 7070: 'include header',\n",
       " 6553: 'header files',\n",
       " 4123: 'development',\n",
       " 10910: 'php api',\n",
       " 15355: 'uiimageview',\n",
       " 13714: 'size',\n",
       " 11540: 'programmatically swift',\n",
       " 9755: 'n',\n",
       " 5603: 'file html',\n",
       " 13354: 'seperate',\n",
       " 6178: 'gc',\n",
       " 8794: 'log',\n",
       " 16537: 'vm',\n",
       " 13387: 'server',\n",
       " 8795: 'log file',\n",
       " 5612: 'file java',\n",
       " 881: 'application server',\n",
       " 5784: 'fix',\n",
       " 10361: 'opened',\n",
       " 5785: 'fix error',\n",
       " 13340: 'separate',\n",
       " 2792: 'commas',\n",
       " 11910: 'quotes',\n",
       " 14820: 'test string',\n",
       " 16041: 'using ruby',\n",
       " 13426: 'serversocket',\n",
       " 11251: 'port',\n",
       " 14548: 'supposed',\n",
       " 11253: 'port number',\n",
       " 4728: 'edit data',\n",
       " ...}"
      ]
     },
     "execution_count": 107,
     "metadata": {},
     "output_type": "execute_result"
    }
   ],
   "source": [
    "tfidf_reversed_vocab"
   ]
  },
  {
   "cell_type": "code",
   "execution_count": 77,
   "metadata": {},
   "outputs": [
    {
     "data": {
      "text/plain": [
       "array([[ 0.88195991, -0.20962892,  0.53007567, ..., -0.22700555,\n",
       "        -0.07152848, -0.06271645],\n",
       "       [ 0.31080436, -0.02857592, -0.04070679, ..., -0.06704532,\n",
       "        -0.03036376, -0.02619644],\n",
       "       [-0.05761941, -0.01097569, -0.0141516 , ..., -0.03186926,\n",
       "        -0.01045221, -0.00902215],\n",
       "       ...,\n",
       "       [ 0.24140421, -0.01272933, -0.01645226, ..., -0.03438091,\n",
       "        -0.00884944, -0.00747233],\n",
       "       [-0.08074535, -0.02223939, -0.04327485, ...,  0.42042338,\n",
       "        -0.01893827, -0.01666091],\n",
       "       [ 0.20329864, -0.10127798,  0.17577236, ..., -0.04813052,\n",
       "        -0.01711424, -0.01527627]])"
      ]
     },
     "execution_count": 77,
     "metadata": {},
     "output_type": "execute_result"
    }
   ],
   "source": [
    "most_common_tags = sorted(tags_counts.items(), key=lambda x: x[1], reverse=True)[:3]"
   ]
  },
  {
   "cell_type": "code",
   "execution_count": 103,
   "metadata": {},
   "outputs": [
    {
     "data": {
      "text/plain": [
       "{'.net': 3872,\n",
       " 'ajax': 1767,\n",
       " 'algorithm': 419,\n",
       " 'android': 2818,\n",
       " 'angularjs': 1353,\n",
       " 'apache': 441,\n",
       " 'arrays': 2277,\n",
       " 'asp.net': 3939,\n",
       " 'asp.net-mvc': 1244,\n",
       " 'c': 3119,\n",
       " 'c#': 19077,\n",
       " 'c++': 6469,\n",
       " 'class': 509,\n",
       " 'cocoa-touch': 507,\n",
       " 'codeigniter': 786,\n",
       " 'css': 1769,\n",
       " 'csv': 435,\n",
       " 'database': 740,\n",
       " 'date': 560,\n",
       " 'datetime': 557,\n",
       " 'django': 1835,\n",
       " 'dom': 400,\n",
       " 'eclipse': 992,\n",
       " 'entity-framework': 649,\n",
       " 'excel': 443,\n",
       " 'facebook': 508,\n",
       " 'file': 582,\n",
       " 'forms': 872,\n",
       " 'function': 487,\n",
       " 'generics': 420,\n",
       " 'google-maps': 408,\n",
       " 'hibernate': 807,\n",
       " 'html': 4668,\n",
       " 'html5': 842,\n",
       " 'image': 672,\n",
       " 'ios': 3256,\n",
       " 'iphone': 1909,\n",
       " 'java': 18661,\n",
       " 'javascript': 19078,\n",
       " 'jquery': 7510,\n",
       " 'json': 2026,\n",
       " 'jsp': 680,\n",
       " 'laravel': 525,\n",
       " 'linq': 964,\n",
       " 'linux': 793,\n",
       " 'list': 693,\n",
       " 'loops': 389,\n",
       " 'maven': 432,\n",
       " 'mongodb': 350,\n",
       " 'multithreading': 1118,\n",
       " 'mysql': 3092,\n",
       " 'node.js': 771,\n",
       " 'numpy': 502,\n",
       " 'objective-c': 4338,\n",
       " 'oop': 425,\n",
       " 'opencv': 401,\n",
       " 'osx': 490,\n",
       " 'pandas': 479,\n",
       " 'parsing': 403,\n",
       " 'performance': 512,\n",
       " 'php': 13907,\n",
       " 'pointers': 350,\n",
       " 'python': 8940,\n",
       " 'python-2.7': 421,\n",
       " 'python-3.x': 379,\n",
       " 'qt': 451,\n",
       " 'r': 1727,\n",
       " 'regex': 1442,\n",
       " 'rest': 456,\n",
       " 'ruby': 2326,\n",
       " 'ruby-on-rails': 3344,\n",
       " 'ruby-on-rails-3': 692,\n",
       " 'selenium': 431,\n",
       " 'servlets': 498,\n",
       " 'session': 415,\n",
       " 'sockets': 579,\n",
       " 'sorting': 375,\n",
       " 'spring': 1346,\n",
       " 'spring-mvc': 618,\n",
       " 'sql': 1272,\n",
       " 'sql-server': 585,\n",
       " 'string': 1573,\n",
       " 'swift': 1465,\n",
       " 'swing': 759,\n",
       " 'twitter-bootstrap': 501,\n",
       " 'uitableview': 460,\n",
       " 'unit-testing': 449,\n",
       " 'validation': 558,\n",
       " 'vb.net': 1918,\n",
       " 'visual-studio': 574,\n",
       " 'visual-studio-2010': 588,\n",
       " 'wcf': 389,\n",
       " 'web-services': 633,\n",
       " 'windows': 838,\n",
       " 'winforms': 1468,\n",
       " 'wordpress': 478,\n",
       " 'wpf': 1289,\n",
       " 'xaml': 438,\n",
       " 'xcode': 900,\n",
       " 'xml': 1347}"
      ]
     },
     "execution_count": 103,
     "metadata": {},
     "output_type": "execute_result"
    }
   ],
   "source": [
    "tags_counts"
   ]
  },
  {
   "cell_type": "code",
   "execution_count": 100,
   "metadata": {},
   "outputs": [],
   "source": [
    "tag = 'c'\n",
    "for i,j in enumerate(mlb.classes):\n",
    "#     print(i,j)\n",
    "    if j is tag:\n",
    "#         print (j)\n",
    "        idx = i"
   ]
  },
  {
   "cell_type": "code",
   "execution_count": 101,
   "metadata": {},
   "outputs": [
    {
     "data": {
      "text/plain": [
       "9"
      ]
     },
     "execution_count": 101,
     "metadata": {},
     "output_type": "execute_result"
    }
   ],
   "source": [
    "idx"
   ]
  },
  {
   "cell_type": "markdown",
   "metadata": {},
   "source": [
    "### Authorization & Submission\n",
    "To submit assignment parts to Cousera platform, please, enter your e-mail and token into variables below. You can generate token on this programming assignment page. <b>Note:</b> Token expires 30 minutes after generation."
   ]
  },
  {
   "cell_type": "code",
   "execution_count": 50,
   "metadata": {},
   "outputs": [
    {
     "name": "stdout",
     "output_type": "stream",
     "text": [
      "You want to submit these parts:\n",
      "Task TextPrepare:\n",
      " sqlite php readonly\n",
      "creating multiple textboxes dynamically\n",
      "self one prefer javascript\n",
      "save php date...\n",
      "Task WordsTagsCount:\n",
      " javascript,c#,java\n",
      "using,php,java...\n",
      "Task BagOfWords:\n",
      " 7...\n",
      "Task MultilabelClassification:\n",
      " 0\tmysql,php\n",
      "1\thtml,javascript,jquery\n",
      "2\t\n",
      "3\tjavascript,jquery\n",
      "4\tandroid,java\n",
      "5\tparsing,php,xml\n",
      "6\tjson,...\n"
     ]
    }
   ],
   "source": [
    "grader.status()"
   ]
  },
  {
   "cell_type": "code",
   "execution_count": null,
   "metadata": {
    "collapsed": true
   },
   "outputs": [],
   "source": [
    "STUDENT_EMAIL = 'ikanez@gmail.com'\n",
    "STUDENT_TOKEN = # TOKEN \n",
    "grader.status()"
   ]
  },
  {
   "cell_type": "markdown",
   "metadata": {},
   "source": [
    "If you want to submit these answers, run cell below"
   ]
  },
  {
   "cell_type": "code",
   "execution_count": null,
   "metadata": {
    "collapsed": true
   },
   "outputs": [],
   "source": [
    "grader.submit(STUDENT_EMAIL, STUDENT_TOKEN)"
   ]
  }
 ],
 "metadata": {
  "kernelspec": {
   "display_name": "Python 3",
   "language": "python",
   "name": "python3"
  },
  "language_info": {
   "codemirror_mode": {
    "name": "ipython",
    "version": 3
   },
   "file_extension": ".py",
   "mimetype": "text/x-python",
   "name": "python",
   "nbconvert_exporter": "python",
   "pygments_lexer": "ipython3",
   "version": "3.6.4"
  }
 },
 "nbformat": 4,
 "nbformat_minor": 2
}
